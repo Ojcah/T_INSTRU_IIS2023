{
 "cells": [
  {
   "cell_type": "code",
   "execution_count": null,
   "id": "2fd62c69-6569-4138-b9ea-50ca45f87ce9",
   "metadata": {},
   "outputs": [],
   "source": []
  },
  {
   "cell_type": "code",
   "execution_count": null,
   "id": "699bce21-4f35-4dd1-b4d5-b7c15f5f116e",
   "metadata": {},
   "outputs": [],
   "source": [
    "import numpy as np\n",
    "import matplotlib.pyplot as plt\n",
    "from scipy.io import wavfile\n",
    "from scipy.fft import fft"
   ]
  },
  {
   "cell_type": "code",
   "execution_count": null,
   "id": "9b88c1f9-91be-44fe-8c28-696a79f25249",
   "metadata": {},
   "outputs": [],
   "source": [
    "senal,Fs = audioread('Computadora.wav');\n"
   ]
  },
  {
   "cell_type": "code",
   "execution_count": null,
   "id": "c1cc8518-b084-4c6f-8e40-f80908ac8089",
   "metadata": {},
   "outputs": [],
   "source": []
  },
  {
   "cell_type": "code",
   "execution_count": null,
   "id": "6664b384-cb8d-4c6d-acf5-4cdbf0fa59bb",
   "metadata": {},
   "outputs": [],
   "source": []
  },
  {
   "cell_type": "code",
   "execution_count": null,
   "id": "38f12bb0-5da7-4665-90e6-783414c381fc",
   "metadata": {},
   "outputs": [],
   "source": []
  }
 ],
 "metadata": {
  "kernelspec": {
   "display_name": "Python 3 (ipykernel)",
   "language": "python",
   "name": "python3"
  },
  "language_info": {
   "codemirror_mode": {
    "name": "ipython",
    "version": 3
   },
   "file_extension": ".py",
   "mimetype": "text/x-python",
   "name": "python",
   "nbconvert_exporter": "python",
   "pygments_lexer": "ipython3",
   "version": "3.8.16"
  }
 },
 "nbformat": 4,
 "nbformat_minor": 5
}
