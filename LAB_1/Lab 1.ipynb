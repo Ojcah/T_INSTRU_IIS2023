{
 "cells": [
  {
   "cell_type": "markdown",
   "id": "1d421f8b",
   "metadata": {},
   "source": [
    "# Laboratorio 1 - Procesamiento de una Señal de Audio\n",
    "### Sebastian Vega Cerdas"
   ]
  },
  {
   "cell_type": "markdown",
   "id": "fb138f49-1933-440f-8906-fc44e1f412d4",
   "metadata": {},
   "source": [
    "## Importar Librerias"
   ]
  },
  {
   "cell_type": "code",
   "execution_count": null,
   "id": "d9d32d62-96bc-4068-9d06-90ed600fd538",
   "metadata": {},
   "outputs": [],
   "source": [
    "#!pip install numpy\n",
    "#!pip install matplotlib\n",
    "\n",
    "import numpy as np\n",
    "import matplotlib.pyplot as plt\n",
    "from scipy.io import wavfile\n",
    "from scipy.fft import fft"
   ]
  },
  {
   "cell_type": "markdown",
   "id": "8af5cade",
   "metadata": {},
   "source": [
    "## Análisis de la Señal Grabada \n",
    "## en el Celular\n",
    "El primer paso es cargar el audio con la libreria scipy a la variable \"audio_data\""
   ]
  },
  {
   "cell_type": "code",
   "execution_count": null,
   "id": "ffa53bb1-898c-4578-afda-42522a58a6e9",
   "metadata": {},
   "outputs": [],
   "source": [
    "sample_rate, audio_data = wavfile.read('Celular.wav')"
   ]
  },
  {
   "cell_type": "code",
   "execution_count": null,
   "id": "88267d6a-71eb-43f7-8482-83c7119d7030",
   "metadata": {},
   "outputs": [],
   "source": [
    "# Realiza la transformada de Fourier para obtener el espectro de frecuencia\n",
    "frequencies = np.fft.fftfreq(len(audio_data), d=1/sample_rate)\n",
    "magnitude_spectrum = np.abs(fft(audio_data))"
   ]
  },
  {
   "cell_type": "code",
   "execution_count": null,
   "id": "a62e45ff-227e-4574-929d-18af5a18a0db",
   "metadata": {},
   "outputs": [],
   "source": [
    "# Limita el rango de frecuencias a la mitad positiva (no considera simetría)\n",
    "positive_frequencies = frequencies[:len(frequencies)//2]\n",
    "positive_magnitude = magnitude_spectrum[:len(magnitude_spectrum)//2]"
   ]
  },
  {
   "cell_type": "code",
   "execution_count": null,
   "id": "9755aa58-d814-42ca-8620-b6465b328951",
   "metadata": {},
   "outputs": [],
   "source": [
    "# Calcula la potencia de la señal deseada (parte de la señal de audio)\n",
    "signal_power = np.sum(audio_data ** 2) / len(audio_data)\n",
    "\n",
    "# Calcula la potencia del ruido (diferencia entre la potencia total y la potencia de la señal)\n",
    "total_power = np.sum(audio_data ** 2)\n",
    "noise_power = total_power - signal_power\n",
    "\n",
    "# Calcula el SNR en decibelios (dB)\n",
    "snr_db = 10 * np.log10(signal_power / noise_power)\n",
    "\n",
    "print(f\"SNR Promedio: {snr_db:.2f} dB\")"
   ]
  },
  {
   "cell_type": "code",
   "execution_count": null,
   "id": "8c7a13a3-23cd-49d0-9218-91dbf64fdc14",
   "metadata": {},
   "outputs": [],
   "source": [
    "# Definir los límites de frecuencia para la gráfica\n",
    "lower_limit = 50  # Hz\n",
    "upper_limit = 5000  # Hz\n",
    "\n",
    "# Encontrar los índices correspondientes a los límites de frecuencia\n",
    "lower_index = np.argmax(positive_frequencies >= lower_limit)\n",
    "upper_index = np.argmax(positive_frequencies >= upper_limit)\n",
    "\n",
    "# Grafica el espectro de frecuencia limitado\n",
    "plt.figure(figsize=(10, 6))\n",
    "plt.plot(positive_frequencies[lower_index:upper_index], positive_magnitude[lower_index:upper_index])\n",
    "plt.xlabel('Frecuencia (Hz)')\n",
    "plt.ylabel('Magnitud')\n",
    "plt.title('Espectro de Frecuencia Celular (50 Hz - 5000 Hz)')\n",
    "plt.grid()\n",
    "plt.show()"
   ]
  },
  {
   "cell_type": "markdown",
   "id": "5fd34766",
   "metadata": {},
   "source": [
    "## Análisis de la Señal Grabada \n",
    "## en la Computadora"
   ]
  },
  {
   "cell_type": "code",
   "execution_count": null,
   "id": "a6d88a21",
   "metadata": {},
   "outputs": [],
   "source": [
    "# Carga el archivo de audio (reemplaza 'audio.wav' con tu nombre de archivo)\n",
    "sample_rate, audio_data = wavfile.read('Computadora.wav')\n",
    "\n",
    "# Realiza la transformada de Fourier para obtener el espectro de frecuencia\n",
    "frequencies = np.fft.fftfreq(len(audio_data), d=1/sample_rate)\n",
    "magnitude_spectrum = np.abs(fft(audio_data))\n",
    "\n",
    "# Limita el rango de frecuencias a la mitad positiva (no considera simetría)\n",
    "positive_frequencies = frequencies[:len(frequencies)//2]\n",
    "positive_magnitude = magnitude_spectrum[:len(magnitude_spectrum)//2]\n",
    "\n",
    "# Calcula la potencia de la señal deseada (parte de la señal de audio)\n",
    "signal_power = np.sum(audio_data ** 2) / len(audio_data)\n",
    "\n",
    "# Calcula la potencia del ruido (diferencia entre la potencia total y la potencia de la señal)\n",
    "total_power = np.sum(audio_data ** 2)\n",
    "noise_power = total_power - signal_power\n",
    "\n",
    "# Calcula el SNR en decibelios (dB)\n",
    "snr_db = 10 * np.log10(signal_power / noise_power)\n",
    "\n",
    "print(f\"SNR Promedio: {snr_db:.2f} dB\")"
   ]
  },
  {
   "cell_type": "code",
   "execution_count": null,
   "id": "3333a6c3",
   "metadata": {},
   "outputs": [],
   "source": [
    "# Definir los límites de frecuencia para la gráfica\n",
    "lower_limit = 50  # Hz\n",
    "upper_limit = 5000  # Hz\n",
    "\n",
    "# Encontrar los índices correspondientes a los límites de frecuencia\n",
    "lower_index = np.argmax(positive_frequencies >= lower_limit)\n",
    "upper_index = np.argmax(positive_frequencies >= upper_limit)\n",
    "\n",
    "# Grafica el espectro de frecuencia limitado\n",
    "plt.figure(figsize=(10, 6))\n",
    "plt.plot(positive_frequencies[lower_index:upper_index], positive_magnitude[lower_index:upper_index])\n",
    "plt.xlabel('Frecuencia (Hz)')\n",
    "plt.ylabel('Magnitud')\n",
    "plt.title('Espectro de Frecuencia Computadora (50 Hz - 5000 Hz)')\n",
    "plt.grid()\n",
    "plt.show()"
   ]
  },
  {
   "cell_type": "code",
   "execution_count": null,
   "id": "05eb8c43",
   "metadata": {},
   "outputs": [],
   "source": []
  },
  {
   "cell_type": "markdown",
   "id": "46606efd",
   "metadata": {},
   "source": [
    "## Ventana de Hamming  (en proceso)"
   ]
  },
  {
   "cell_type": "code",
   "execution_count": null,
   "id": "d03f3245-719f-4b6b-a0f9-7466c2031e03",
   "metadata": {},
   "outputs": [],
   "source": [
    "# Aplicar ventana de Hamming a la señal\n",
    "hamming_window = np.hamming(len(audio_data))\n",
    "windowed_audio = audio_data * hamming_window\n",
    "#len(audio_data)/495"
   ]
  },
  {
   "cell_type": "code",
   "execution_count": null,
   "id": "8f1a2210-b584-4e56-8cc7-d1ab27620426",
   "metadata": {},
   "outputs": [],
   "source": [
    "# Realizar la transformada de Fourier para obtener el espectro de frecuencia\n",
    "frequencies_hamming = np.fft.fftfreq(len(windowed_audio), d=1/sample_rate)\n",
    "magnitude_spectrum_hamming = np.abs(fft(windowed_audio))"
   ]
  },
  {
   "cell_type": "code",
   "execution_count": null,
   "id": "54ae3957-a0e7-4cd1-882a-05234a1f0ec3",
   "metadata": {},
   "outputs": [],
   "source": [
    "# Limitar el rango de frecuencias a la mitad positiva (no considera simetría)\n",
    "positive_frequencies_hamming = frequencies_hamming[:len(frequencies_hamming)//2]\n",
    "positive_magnitude_hamming = magnitude_spectrum_hamming[:len(magnitude_spectrum_hamming)//2]"
   ]
  },
  {
   "cell_type": "code",
   "execution_count": null,
   "id": "6e3a6d17-01a8-454c-8f8c-cd087566e352",
   "metadata": {},
   "outputs": [],
   "source": [
    "# Definir los límites de frecuencia para la gráfica\n",
    "lower_limit_hamming = 50  # Hz\n",
    "upper_limit_hamming = 5000  # Hz\n",
    "\n",
    "# Encontrar los índices correspondientes a los límites de frecuencia\n",
    "lower_index_hamming = np.argmax(positive_frequencies_hamming >= lower_limit_hamming)\n",
    "upper_index_hamming = np.argmax(positive_frequencies_hamming >= upper_limit_hamming)\n",
    "\n",
    "# Graficar el espectro de frecuencia limitado con ventana de Hamming\n",
    "plt.figure(figsize=(10, 6))\n",
    "plt.plot(positive_frequencies_hamming[lower_index_hamming:upper_index_hamming], positive_magnitude_hamming[lower_index_hamming:upper_index_hamming])\n",
    "plt.xlabel('Frecuencia (Hz)')\n",
    "plt.ylabel('Magnitud')\n",
    "plt.title('Espectro de Frecuencia con Ventana de Hamming (50 Hz - 5000 Hz)')\n",
    "plt.grid()\n",
    "plt.show()"
   ]
  },
  {
   "cell_type": "code",
   "execution_count": null,
   "id": "a4261ae1-7cea-41fa-9c40-d472f444b501",
   "metadata": {},
   "outputs": [],
   "source": [
    "senal = []\n",
    "frecuencias = []\n",
    "\n",
    "#hamming_window = np.hamming(len(audio_data)/495)\n",
    "hamming_window = np.hamming(1024)\n",
    "#for i in range(int(len(audio_data)/495)):\n",
    "for i in range(0,len(audio_data),1024):\n",
    "    \n",
    "    if len(audio_data[i:i+1024])==1024:\n",
    "        windowed_audio = audio_data[i:i+1024] * hamming_window\n",
    "        # Realizar la transformada de Fourier para obtener el espectro de frecuencia\n",
    "        frequencies_hamming = np.fft.fftfreq(len(windowed_audio), d=1/sample_rate)\n",
    "        magnitude_spectrum_hamming = np.abs(fft(windowed_audio))\n",
    "    else:\n",
    "        hamming_window = np.hamming(len(audio_data[i:i+1024]))\n",
    "        windowed_audio = audio_data[i:i+1024] * hamming_window\n",
    "        # Realizar la transformada de Fourier para obtener el espectro de frecuencia\n",
    "        frequencies_hamming = np.fft.fftfreq(len(windowed_audio), d=1/sample_rate)\n",
    "        magnitude_spectrum_hamming = np.abs(fft(windowed_audio))\n",
    "    \n",
    "    \n",
    "    \n",
    "    for i in range(len(magnitude_spectrum_hamming)):\n",
    "        senal.append(magnitude_spectrum_hamming[i])\n",
    "        frecuencias.append(frequencies_hamming[i])\n",
    "    \n",
    "\n",
    "    \n",
    "\n",
    "# Limitar el rango de frecuencias a la mitad positiva (no considera simetría)\n",
    "positive_frequencies_hamming = frecuencias[:len(frecuencias)//2]\n",
    "positive_magnitude_hamming = senal[:len(senal)//2]\n",
    "\n",
    "\n",
    "print(positive_frequencies_hamming)\n",
    "\n",
    "\n",
    "# Definir los límites de frecuencia para la gráfica\n",
    "lower_limit_hamming = 50  # Hz\n",
    "upper_limit_hamming = 5000  # Hz\n",
    "\n",
    "# Encontrar los índices correspondientes a los límites de frecuencia\n",
    "lower_index_hamming = np.argmax(positive_frequencies_hamming >= lower_limit_hamming)\n",
    "upper_index_hamming = np.argmax(positive_frequencies_hamming >= upper_limit_hamming)\n",
    "\n",
    "# Graficar el espectro de frecuencia limitado con ventana de Hamming\n",
    "plt.figure(figsize=(10, 6))\n",
    "plt.plot(positive_frequencies_hamming[lower_index_hamming:upper_index_hamming], positive_magnitude_hamming[lower_index_hamming:upper_index_hamming])\n",
    "plt.xlabel('Frecuencia (Hz)')\n",
    "plt.ylabel('Magnitud')\n",
    "plt.title('Espectro de Frecuencia con Ventana de Hamming (50 Hz - 5000 Hz)')\n",
    "plt.grid()\n",
    "plt.show()\n",
    "\n"
   ]
  },
  {
   "cell_type": "code",
   "execution_count": null,
   "id": "20cdd6a9",
   "metadata": {},
   "outputs": [],
   "source": []
  },
  {
   "cell_type": "code",
   "execution_count": null,
   "id": "4e7df1c1",
   "metadata": {},
   "outputs": [],
   "source": []
  },
  {
   "cell_type": "code",
   "execution_count": null,
   "id": "56ff138d",
   "metadata": {},
   "outputs": [],
   "source": []
  },
  {
   "cell_type": "code",
   "execution_count": null,
   "id": "41a53406",
   "metadata": {},
   "outputs": [],
   "source": []
  },
  {
   "cell_type": "code",
   "execution_count": null,
   "id": "c0e8f5cb",
   "metadata": {},
   "outputs": [],
   "source": []
  }
 ],
 "metadata": {
  "kernelspec": {
   "display_name": "Python 3 (ipykernel)",
   "language": "python",
   "name": "python3"
  },
  "language_info": {
   "codemirror_mode": {
    "name": "ipython",
    "version": 3
   },
   "file_extension": ".py",
   "mimetype": "text/x-python",
   "name": "python",
   "nbconvert_exporter": "python",
   "pygments_lexer": "ipython3",
   "version": "3.11.2"
  }
 },
 "nbformat": 4,
 "nbformat_minor": 5
}
